{
 "cells": [
  {
   "cell_type": "markdown",
   "metadata": {},
   "source": [
    "## Breast Cancer Machine Learning Techniques\n",
    "Machine Learning with Wisconsin breast cancer data set. \n",
    "\n",
    "+ Raul Eulogio\n",
    "\n",
    "## Abstract\n",
    "For this quick project, I wanted to implement a few **Machine Learning** techniques on a data set containing descriptive attributes of a digitized image of a fine needle aspirate (FNA) of breast mass. We have a total of 10 features that were computed for each cell nucleus with an ID Number and the Diagnosis (**Malignant** = 4, **Benign** = 2). \n",
    "\n",
    "This is popular data set used for machine learning purposes, and I plan on using the same techniques I used for another data set that performed poorly due to havin too many *Categorical* variables.\n",
    "\n",
    "Thus for this project I decided to use 4 statistical models which I thought would do significantly better than others. The ones I have chosen are listed here (although I will go into more detail about each model in later sections):\n",
    "\n",
    "+ Kth Nearest Neighbor\n",
    "+ Decision Trees\n",
    "+ (Bagging) Random Forest\n",
    "+ Neural Networks\n",
    "\n",
    "I employ critical data analysis modules in this project more specifically \n",
    "\n",
    "+ pandas\n",
    "+ scikit learn \n",
    "+ matplotlib (for visuals)\n",
    "\n",
    "## 1. Load Modules\n",
    "We load our modules into our python environment. In my case I am employing a **Jupyter Notebook** while running inside an **Anaconda** environment. \n",
    "\n",
    "For now to illustrate and show the module versions in a simple way I will name the ones I used and show the version I used as follows:\n",
    "\n",
    "+ numpy==1.11.2\n",
    "+ pandas==0.18.1\n",
    "+ matplotlib==1.5.3\n",
    "+ sklearn==0.18.1\n",
    "+ seaborn==0.7.1"
   ]
  },
  {
   "cell_type": "code",
   "execution_count": 1,
   "metadata": {
    "collapsed": false
   },
   "outputs": [],
   "source": [
    "import numpy as np\n",
    "import pandas as pd\n",
    "import matplotlib.pyplot as plt # Visuals\n",
    "from sklearn.model_selection import train_test_split\n",
    "from sklearn.feature_extraction import DictVectorizer # Transform categorical variables\n",
    "from sklearn.neighbors import KNeighborsClassifier # Kth Nearest Neighbor\n",
    "from sklearn.tree import DecisionTreeClassifier # Decision Trees\n",
    "from sklearn.tree import export_graphviz\n",
    "from sklearn.ensemble import RandomForestClassifier # Bagging Forest\n",
    "from sklearn.neural_network import MLPClassifier # Neural Networks\n",
    "from sklearn.metrics import roc_curve # ROC Curves\n",
    "from sklearn.metrics import auc # AUC \n",
    "from urllib.request import urlopen\n",
    "from ggplot import *\n",
    "\n",
    "plt.style.use('ggplot') # Using ggplot2 style visuals because that's how I learned my visuals and I'm sticking to it!"
   ]
  },
  {
   "cell_type": "markdown",
   "metadata": {},
   "source": [
    "## 2. Get Data \n",
    "Data set from `UCI Database`. I decided to use this data set because it was a real world application of machine learning. Looking through the data set you can see certain attributes like area, smoothness, and symmetry of the nucleus among other physical attributes. \n",
    "\n",
    "Our goal is to try to find the best method which will predict where the specimen has **Breast Cancer** or not based on certain physical characteristics. \n",
    "\n",
    "Our goal is to make these assumption with strong statistical evidence to back our claims and see what attributes helped us the most. Thus with machine learning, and statistical learning (data science, data mining, classification etc) we are trying to find statistical patterns that would lead us to predict to help our understanding of the data around us. "
   ]
  },
  {
   "cell_type": "code",
   "execution_count": 2,
   "metadata": {
    "collapsed": false
   },
   "outputs": [
    {
     "data": {
      "text/html": [
       "<div>\n",
       "<table border=\"1\" class=\"dataframe\">\n",
       "  <thead>\n",
       "    <tr style=\"text-align: right;\">\n",
       "      <th></th>\n",
       "      <th>clumpThickness</th>\n",
       "      <th>cellSize</th>\n",
       "      <th>cellShape</th>\n",
       "      <th>marginalAdh</th>\n",
       "      <th>epithCSize</th>\n",
       "      <th>bareNuclei</th>\n",
       "      <th>blandCromatin</th>\n",
       "      <th>normNucleoli</th>\n",
       "      <th>mitoses</th>\n",
       "      <th>class</th>\n",
       "    </tr>\n",
       "    <tr>\n",
       "      <th>id_number</th>\n",
       "      <th></th>\n",
       "      <th></th>\n",
       "      <th></th>\n",
       "      <th></th>\n",
       "      <th></th>\n",
       "      <th></th>\n",
       "      <th></th>\n",
       "      <th></th>\n",
       "      <th></th>\n",
       "      <th></th>\n",
       "    </tr>\n",
       "  </thead>\n",
       "  <tbody>\n",
       "    <tr>\n",
       "      <th>1000025</th>\n",
       "      <td>5</td>\n",
       "      <td>1</td>\n",
       "      <td>1</td>\n",
       "      <td>1</td>\n",
       "      <td>2</td>\n",
       "      <td>1</td>\n",
       "      <td>3</td>\n",
       "      <td>1</td>\n",
       "      <td>1</td>\n",
       "      <td>2</td>\n",
       "    </tr>\n",
       "    <tr>\n",
       "      <th>1002945</th>\n",
       "      <td>5</td>\n",
       "      <td>4</td>\n",
       "      <td>4</td>\n",
       "      <td>5</td>\n",
       "      <td>7</td>\n",
       "      <td>10</td>\n",
       "      <td>3</td>\n",
       "      <td>2</td>\n",
       "      <td>1</td>\n",
       "      <td>2</td>\n",
       "    </tr>\n",
       "    <tr>\n",
       "      <th>1015425</th>\n",
       "      <td>3</td>\n",
       "      <td>1</td>\n",
       "      <td>1</td>\n",
       "      <td>1</td>\n",
       "      <td>2</td>\n",
       "      <td>2</td>\n",
       "      <td>3</td>\n",
       "      <td>1</td>\n",
       "      <td>1</td>\n",
       "      <td>2</td>\n",
       "    </tr>\n",
       "    <tr>\n",
       "      <th>1016277</th>\n",
       "      <td>6</td>\n",
       "      <td>8</td>\n",
       "      <td>8</td>\n",
       "      <td>1</td>\n",
       "      <td>3</td>\n",
       "      <td>4</td>\n",
       "      <td>3</td>\n",
       "      <td>7</td>\n",
       "      <td>1</td>\n",
       "      <td>2</td>\n",
       "    </tr>\n",
       "    <tr>\n",
       "      <th>1017023</th>\n",
       "      <td>4</td>\n",
       "      <td>1</td>\n",
       "      <td>1</td>\n",
       "      <td>3</td>\n",
       "      <td>2</td>\n",
       "      <td>1</td>\n",
       "      <td>3</td>\n",
       "      <td>1</td>\n",
       "      <td>1</td>\n",
       "      <td>2</td>\n",
       "    </tr>\n",
       "  </tbody>\n",
       "</table>\n",
       "</div>"
      ],
      "text/plain": [
       "           clumpThickness  cellSize  cellShape  marginalAdh  epithCSize  \\\n",
       "id_number                                                                 \n",
       "1000025                 5         1          1            1           2   \n",
       "1002945                 5         4          4            5           7   \n",
       "1015425                 3         1          1            1           2   \n",
       "1016277                 6         8          8            1           3   \n",
       "1017023                 4         1          1            3           2   \n",
       "\n",
       "          bareNuclei  blandCromatin  normNucleoli  mitoses  class  \n",
       "id_number                                                          \n",
       "1000025            1              3             1        1      2  \n",
       "1002945           10              3             2        1      2  \n",
       "1015425            2              3             1        1      2  \n",
       "1016277            4              3             7        1      2  \n",
       "1017023            1              3             1        1      2  "
      ]
     },
     "execution_count": 2,
     "metadata": {},
     "output_type": "execute_result"
    }
   ],
   "source": [
    "UCI_data_URL = 'http://archive.ics.uci.edu/ml/machine-learning-databases/breast-cancer-wisconsin/breast-cancer-wisconsin.data'\n",
    "\n",
    "names = ['id_number', 'clumpThickness', 'cellSize', 'cellShape', 'marginalAdh',\n",
    "        'epithCSize', 'bareNuclei', 'blandCromatin', 'normNucleoli', 'mitoses', 'class'] \n",
    "\n",
    "breastCancer = pd.read_csv(urlopen(UCI_data_URL), names=names)\n",
    "\n",
    "breastCancer.set_index(['id_number'], inplace = True)\n",
    "breastCancer.head()"
   ]
  },
  {
   "cell_type": "code",
   "execution_count": 3,
   "metadata": {
    "collapsed": false
   },
   "outputs": [
    {
     "name": "stdout",
     "output_type": "stream",
     "text": [
      "Here's the dimensions of our data frame:\n",
      "(699, 10)\n",
      "Here's the data types of our columns:\n",
      "clumpThickness     int64\n",
      "cellSize           int64\n",
      "cellShape          int64\n",
      "marginalAdh        int64\n",
      "epithCSize         int64\n",
      "bareNuclei        object\n",
      "blandCromatin      int64\n",
      "normNucleoli       int64\n",
      "mitoses            int64\n",
      "class              int64\n",
      "dtype: object\n"
     ]
    }
   ],
   "source": [
    "print(\"Here's the dimensions of our data frame:\")\n",
    "print(breastCancer.shape)\n",
    "print(\"Here's the data types of our columns:\")\n",
    "print(breastCancer.dtypes)"
   ]
  },
  {
   "cell_type": "markdown",
   "metadata": {
    "collapsed": true
   },
   "source": [
    "### Normalizing Data \n",
    "A step known as preprocessing, for many machine learning techniques scaling the data to be of `mean` 0 and `variance` of 1. Put more explanation here... but don't want to cus I want to run models and shit.\n",
    "\n",
    "Bare Nuclei has some **?** so it was interpretted as an **Object** data type so we will convert to **Float**, then drop the **NaN's** produced"
   ]
  },
  {
   "cell_type": "code",
   "execution_count": 4,
   "metadata": {
    "collapsed": false
   },
   "outputs": [],
   "source": [
    "breastCancer['bareNuclei'] = breastCancer['bareNuclei'].apply(pd.to_numeric, errors = 'coerce')"
   ]
  },
  {
   "cell_type": "code",
   "execution_count": 5,
   "metadata": {
    "collapsed": false
   },
   "outputs": [
    {
     "data": {
      "text/plain": [
       "clumpThickness      int64\n",
       "cellSize            int64\n",
       "cellShape           int64\n",
       "marginalAdh         int64\n",
       "epithCSize          int64\n",
       "bareNuclei        float64\n",
       "blandCromatin       int64\n",
       "normNucleoli        int64\n",
       "mitoses             int64\n",
       "class               int64\n",
       "dtype: object"
      ]
     },
     "execution_count": 5,
     "metadata": {},
     "output_type": "execute_result"
    }
   ],
   "source": [
    "breastCancer.dtypes"
   ]
  },
  {
   "cell_type": "code",
   "execution_count": 6,
   "metadata": {
    "collapsed": false
   },
   "outputs": [
    {
     "name": "stdout",
     "output_type": "stream",
     "text": [
      "           clumpThickness  cellSize  cellShape  marginalAdh  epithCSize  \\\n",
      "id_number                                                                 \n",
      "1000025          0.444444  0.000000   0.000000     0.000000    0.111111   \n",
      "1002945          0.444444  0.333333   0.333333     0.444444    0.666667   \n",
      "1015425          0.222222  0.000000   0.000000     0.000000    0.111111   \n",
      "1016277          0.555556  0.777778   0.777778     0.000000    0.222222   \n",
      "1017023          0.333333  0.000000   0.000000     0.222222    0.111111   \n",
      "\n",
      "           bareNuclei  blandCromatin  normNucleoli  mitoses  \n",
      "id_number                                                    \n",
      "1000025      0.000000       0.222222      0.000000      0.0  \n",
      "1002945      1.000000       0.222222      0.111111      0.0  \n",
      "1015425      0.111111       0.222222      0.000000      0.0  \n",
      "1016277      0.333333       0.222222      0.666667      0.0  \n",
      "1017023      0.000000       0.222222      0.000000      0.0  \n"
     ]
    }
   ],
   "source": [
    "breastCancerTest = breastCancer.iloc[:, 0:9]\n",
    "\n",
    "for item in breastCancer:\n",
    "    if item in breastCancerTest:\n",
    "        breastCancer_norm = (breastCancerTest - breastCancerTest.min()) / (breastCancerTest.max() - breastCancerTest.min())\n",
    "print(breastCancer_norm.head())"
   ]
  },
  {
   "cell_type": "code",
   "execution_count": 7,
   "metadata": {
    "collapsed": false
   },
   "outputs": [
    {
     "name": "stdout",
     "output_type": "stream",
     "text": [
      "(699, 10)\n",
      "           clumpThickness  cellSize  cellShape  marginalAdh  epithCSize  \\\n",
      "id_number                                                                 \n",
      "1000025          0.444444  0.000000   0.000000     0.000000    0.111111   \n",
      "1002945          0.444444  0.333333   0.333333     0.444444    0.666667   \n",
      "1015425          0.222222  0.000000   0.000000     0.000000    0.111111   \n",
      "1016277          0.555556  0.777778   0.777778     0.000000    0.222222   \n",
      "1017023          0.333333  0.000000   0.000000     0.222222    0.111111   \n",
      "\n",
      "           bareNuclei  blandCromatin  normNucleoli  mitoses  class  \n",
      "id_number                                                           \n",
      "1000025      0.000000       0.222222      0.000000      0.0      2  \n",
      "1002945      1.000000       0.222222      0.111111      0.0      2  \n",
      "1015425      0.111111       0.222222      0.000000      0.0      2  \n",
      "1016277      0.333333       0.222222      0.666667      0.0      2  \n",
      "1017023      0.000000       0.222222      0.000000      0.0      2  \n"
     ]
    }
   ],
   "source": [
    "df = breastCancer.drop(breastCancerTest, axis=1)\n",
    "\n",
    "breastCancer = pd.concat([breastCancer_norm, df], axis=1)\n",
    "\n",
    "print(breastCancer.shape)\n",
    "print(breastCancer.head())"
   ]
  },
  {
   "cell_type": "code",
   "execution_count": 8,
   "metadata": {
    "collapsed": false
   },
   "outputs": [],
   "source": [
    "breastCancer = breastCancer.dropna(axis=0)"
   ]
  },
  {
   "cell_type": "markdown",
   "metadata": {},
   "source": [
    "## Creating Training and Test Sets"
   ]
  },
  {
   "cell_type": "code",
   "execution_count": 9,
   "metadata": {
    "collapsed": false
   },
   "outputs": [],
   "source": [
    "train, test = train_test_split(breastCancer, test_size = 0.20, random_state = 42)\n",
    "\n",
    "train_set = train.ix[:, train.columns != 'class']\n",
    "class_set = train.ix[:, train.columns == 'class']\n",
    "\n",
    "test_set = test.ix[:, test.columns != 'class']\n",
    "test_class_set = test.ix[:, test.columns == 'class']"
   ]
  },
  {
   "cell_type": "markdown",
   "metadata": {},
   "source": [
    "## Kth Nearest Neighbor"
   ]
  },
  {
   "cell_type": "code",
   "execution_count": 10,
   "metadata": {
    "collapsed": true
   },
   "outputs": [],
   "source": [
    "breastCancerKnn = KNeighborsClassifier()"
   ]
  },
  {
   "cell_type": "code",
   "execution_count": 11,
   "metadata": {
    "collapsed": false
   },
   "outputs": [
    {
     "data": {
      "text/plain": [
       "KNeighborsClassifier(algorithm='auto', leaf_size=30, metric='minkowski',\n",
       "           metric_params=None, n_jobs=1, n_neighbors=5, p=2,\n",
       "           weights='uniform')"
      ]
     },
     "execution_count": 11,
     "metadata": {},
     "output_type": "execute_result"
    }
   ],
   "source": [
    "breastCancerKnn.fit(train_set, class_set['class'])"
   ]
  },
  {
   "cell_type": "code",
   "execution_count": 12,
   "metadata": {
    "collapsed": false
   },
   "outputs": [
    {
     "name": "stdout",
     "output_type": "stream",
     "text": [
      "class    2    4\n",
      "row_0          \n",
      "2      358    7\n",
      "4        7  174\n",
      "Here is our accuracy for our training set:\n",
      "0.974\n"
     ]
    }
   ],
   "source": [
    "predictionsTrain = breastCancerKnn.predict(train_set)\n",
    "\n",
    "print(pd.crosstab(predictionsTrain, class_set['class']))\n",
    "\n",
    "accuracyTrain = breastCancerKnn.score(train_set, class_set['class'])\n",
    "\n",
    "print(\"Here is our accuracy for our training set:\")\n",
    "print('%.3f' % accuracyTrain)"
   ]
  },
  {
   "cell_type": "code",
   "execution_count": 13,
   "metadata": {
    "collapsed": false
   },
   "outputs": [
    {
     "name": "stdout",
     "output_type": "stream",
     "text": [
      "The train error rate for our model is:\n",
      "0.02564\n"
     ]
    }
   ],
   "source": [
    "print(\"The train error rate for our model is:\")\n",
    "train_error_rate = 1 - accuracyTrain  \n",
    "print('%.5f' % train_error_rate)"
   ]
  },
  {
   "cell_type": "code",
   "execution_count": 14,
   "metadata": {
    "collapsed": false
   },
   "outputs": [
    {
     "name": "stdout",
     "output_type": "stream",
     "text": [
      "class   2   4\n",
      "row_0        \n",
      "2      78   6\n",
      "4       1  52\n",
      "Here is our accuracy for our training set:\n",
      "0.949\n"
     ]
    }
   ],
   "source": [
    "predictions = breastCancerKnn.predict(test_set)\n",
    "\n",
    "print(pd.crosstab(predictions, test_class_set['class']))\n",
    "\n",
    "accuracy = breastCancerKnn.score(test_set, test_class_set['class'])\n",
    "\n",
    "print(\"Here is our accuracy for our training set:\")\n",
    "print('%.3f' % accuracy)"
   ]
  },
  {
   "cell_type": "code",
   "execution_count": 15,
   "metadata": {
    "collapsed": false
   },
   "outputs": [
    {
     "name": "stdout",
     "output_type": "stream",
     "text": [
      "The test error rate for our model is:\n",
      "0.05109\n"
     ]
    }
   ],
   "source": [
    "# Here we calculate the test error rate!\n",
    "print(\"The test error rate for our model is:\")\n",
    "test_error_rate = 1 - accuracy\n",
    "print('%.5f' % test_error_rate)"
   ]
  },
  {
   "cell_type": "markdown",
   "metadata": {},
   "source": [
    "## ROC Curves"
   ]
  },
  {
   "cell_type": "markdown",
   "metadata": {},
   "source": [
    "**NOTE**: Need to learn how to convert `test_class_set` and **predictions** to **BINARY** to make **ROC Curves** WORK!!\n",
    "\n",
    "**SOURCE**: (http://blog.yhat.com/posts/roc-curves.html)"
   ]
  },
  {
   "cell_type": "code",
   "execution_count": 16,
   "metadata": {
    "collapsed": true
   },
   "outputs": [],
   "source": [
    "test_class_np = np.array([0, 0, 1, 1, 1, 1, 1, 1, 0, 1, 1, 1, 1, 1, 0, 0, 1, 0, 1, 0, 0, 1, 0,\n",
    "       1, 1, 1, 0, 0, 1, 0, 1, 0, 0, 0, 1, 1, 0, 1, 0, 0, 1, 0, 0, 1, 1, 0,\n",
    "       1, 0, 1, 0, 1, 1, 1, 0, 1, 0, 0, 1, 1, 0, 1, 1, 1, 0, 1, 1, 0, 0, 1,\n",
    "       1, 0, 1, 1, 1, 0, 0, 1, 1, 0, 0, 0, 0, 1, 0, 1, 0, 1, 1, 0, 1, 1, 0,\n",
    "       1, 0, 1, 1, 0, 1, 1, 1, 1, 1, 0, 1, 0, 0, 1, 1, 0, 1, 0, 0, 0, 1, 1,\n",
    "       1, 0, 1, 1, 1, 0, 0, 1, 1, 1, 1, 0, 1, 0, 1, 1, 1, 0, 0, 0, 1, 1])"
   ]
  },
  {
   "cell_type": "code",
   "execution_count": 17,
   "metadata": {
    "collapsed": true
   },
   "outputs": [],
   "source": [
    "predictions\n",
    "predictions_np = np.array([0, 0, 1, 1, 1, 1, 1, 1, 0, 1, 1, 1, 1, 1, 1, 0, 1, 0, 1, 0, 0, 1, 0,\n",
    "       1, 1, 1, 0, 0, 1, 0, 1, 0, 0, 1, 1, 1, 0, 1, 0, 0, 1, 0, 0, 1, 1, 0,\n",
    "       1, 0, 1, 0, 1, 1, 1, 0, 1, 0, 0, 1, 1, 0, 1, 1, 1, 0, 1, 1, 0, 1, 1,\n",
    "       1, 0, 1, 1, 1, 0, 0, 1, 1, 0, 0, 0, 0, 1, 0, 1, 0, 1, 1, 0, 1, 1, 0,\n",
    "       1, 1, 1, 1, 0, 0, 1, 1, 1, 1, 0, 1, 0, 1, 1, 1, 0, 1, 0, 0, 0, 1, 1,\n",
    "       1, 0, 1, 1, 1, 0, 0, 1, 1, 1, 1, 0, 1, 0, 1, 1, 1, 0, 0, 0, 1, 1])"
   ]
  },
  {
   "cell_type": "code",
   "execution_count": 18,
   "metadata": {
    "collapsed": true
   },
   "outputs": [],
   "source": [
    "fpr, tpr, _ = roc_curve(predictions_np, test_class_np)"
   ]
  },
  {
   "cell_type": "code",
   "execution_count": 19,
   "metadata": {
    "collapsed": false
   },
   "outputs": [
    {
     "data": {
      "image/png": "[encoded data removed]",
      "text/plain": [
       "<matplotlib.figure.Figure at 0x7fdc043d4390>"
      ]
     },
     "metadata": {},
     "output_type": "display_data"
    },
    {
     "data": {
      "text/plain": [
       "<ggplot: (-9223363250366235083)>"
      ]
     },
     "execution_count": 19,
     "metadata": {},
     "output_type": "execute_result"
    }
   ],
   "source": [
    "df = pd.DataFrame(dict(fpr=fpr, tpr=tpr))\n",
    "auc = auc(fpr, tpr)\n",
    "ggplot(df, aes(x='fpr', y='tpr')) +\\\n",
    "    geom_line() +\\\n",
    "    geom_area(alpha=0.2) +\\\n",
    "    geom_abline(linetype='dashed') +\\\n",
    "    theme_bw() +\\\n",
    "    ggtitle('ROC Curve for Knn w/ AUC=%.5s' % str(auc))"
   ]
  },
  {
   "cell_type": "markdown",
   "metadata": {},
   "source": [
    "## Decision Trees"
   ]
  },
  {
   "cell_type": "code",
   "execution_count": 20,
   "metadata": {
    "collapsed": true
   },
   "outputs": [],
   "source": [
    "dt = DecisionTreeClassifier(random_state = 42)\n",
    "fit = dt.fit(train_set, class_set)"
   ]
  },
  {
   "cell_type": "code",
   "execution_count": 17,
   "metadata": {
    "collapsed": false
   },
   "outputs": [],
   "source": [
    "with open('breastCancer.dot', 'w') as f:\n",
    "    f = export_graphviz(fit, out_file = f)"
   ]
  },
  {
   "cell_type": "markdown",
   "metadata": {},
   "source": [
    "**SOURCE**: (https://github.com/dreampuf/GraphvizOnline)"
   ]
  },
  {
   "cell_type": "markdown",
   "metadata": {},
   "source": [
    "<img src='dt.png'>"
   ]
  },
  {
   "cell_type": "code",
   "execution_count": 21,
   "metadata": {
    "collapsed": false
   },
   "outputs": [
    {
     "data": {
      "text/plain": [
       "array([1, 5, 7, 0, 4, 3, 6, 2, 8])"
      ]
     },
     "execution_count": 21,
     "metadata": {},
     "output_type": "execute_result"
    }
   ],
   "source": [
    "importances = fit.feature_importances_\n",
    "indices = np.argsort(importances)[::-1]\n",
    "indices"
   ]
  },
  {
   "cell_type": "code",
   "execution_count": 22,
   "metadata": {
    "collapsed": false
   },
   "outputs": [
    {
     "name": "stdout",
     "output_type": "stream",
     "text": [
      "Feature ranking:\n",
      "1. The feature 'cellSize' has a Gini Importance of 0.758844\n",
      "2. The feature 'bareNuclei' has a Gini Importance of 0.091709\n",
      "3. The feature 'normNucleoli' has a Gini Importance of 0.046831\n",
      "4. The feature 'clumpThickness' has a Gini Importance of 0.030305\n",
      "5. The feature 'epithCSize' has a Gini Importance of 0.024125\n",
      "6. The feature 'marginalAdh' has a Gini Importance of 0.021033\n",
      "7. The feature 'blandCromatin' has a Gini Importance of 0.013508\n",
      "8. The feature 'cellShape' has a Gini Importance of 0.007447\n",
      "9. The feature 'mitoses' has a Gini Importance of 0.006198\n"
     ]
    }
   ],
   "source": [
    "namesInd = names[1:10]\n",
    "\n",
    "# Print the feature ranking\n",
    "print(\"Feature ranking:\")\n",
    "\n",
    "for f in range(9):\n",
    "    i = f\n",
    "    print(\"%d. The feature '%s' has a Gini Importance of %f\" % (f + 1, namesInd[indices[i]], importances[indices[f]]))"
   ]
  },
  {
   "cell_type": "code",
   "execution_count": 23,
   "metadata": {
    "collapsed": false
   },
   "outputs": [
    {
     "name": "stdout",
     "output_type": "stream",
     "text": [
      "Here is our mean accuracy on the test set:\n",
      "0.93\n"
     ]
    }
   ],
   "source": [
    "accuracy_dt = fit.score(test_set, test_class_set['class'])\n",
    "\n",
    "print(\"Here is our mean accuracy on the test set:\")\n",
    "print('%.2f' % accuracy_dt)"
   ]
  },
  {
   "cell_type": "code",
   "execution_count": 24,
   "metadata": {
    "collapsed": false
   },
   "outputs": [
    {
     "name": "stdout",
     "output_type": "stream",
     "text": [
      "Table comparing actual vs. predicted values for our test set:\n",
      "class   2   4\n",
      "row_0        \n",
      "2      77   7\n",
      "4       2  51\n"
     ]
    }
   ],
   "source": [
    "predictions_dt = fit.predict(test_set)\n",
    "\n",
    "print(\"Table comparing actual vs. predicted values for our test set:\")\n",
    "print(pd.crosstab(predictions_dt, test_class_set['class']))"
   ]
  },
  {
   "cell_type": "code",
   "execution_count": 25,
   "metadata": {
    "collapsed": false
   },
   "outputs": [
    {
     "name": "stdout",
     "output_type": "stream",
     "text": [
      "The test error rate for our model is:\n",
      "0.06569\n"
     ]
    }
   ],
   "source": [
    "# Here we calculate the test error rate!\n",
    "print(\"The test error rate for our model is:\")\n",
    "test_error_rate_dt = 1 - accuracy_dt\n",
    "print('%.5f' % test_error_rate_dt)"
   ]
  },
  {
   "cell_type": "markdown",
   "metadata": {},
   "source": [
    "## ROC Curve for Decision Trees\n",
    "Same issue as before!"
   ]
  },
  {
   "cell_type": "code",
   "execution_count": 26,
   "metadata": {
    "collapsed": false
   },
   "outputs": [
    {
     "name": "stdout",
     "output_type": "stream",
     "text": [
      "[0 0 1 1 1 1 1 1 1 1 1 1 1 1 0 0 1 0 1 0 0 1 0 1 1 1 0 0 1 0 1 0 0 1 1 1 0\n",
      " 1 0 0 1 0 0 1 1 0 1 0 1 0 1 1 1 0 1 0 1 1 1 0 1 1 1 0 1 1 0 0 1 1 0 1 1 1\n",
      " 0 0 1 1 1 0 0 0 1 0 1 0 1 1 0 1 1 0 1 0 1 1 0 0 1 0 1 1 0 1 1 1 1 1 0 1 0\n",
      " 0 1 1 1 1 0 1 1 1 0 0 1 1 1 1 0 1 0 1 1 1 0 0 0 1 1]\n"
     ]
    }
   ],
   "source": [
    "predictions_dt_np = np.array([0, 0, 1, 1, 1, 1, 1, 1, 1, 1, 1, 1, 1, 1, 0, 0, 1, 0, 1, 0, 0, 1, 0,\n",
    "       1, 1, 1, 0, 0, 1, 0, 1, 0, 0, 1, 1, 1, 0, 1, 0, 0, 1, 0, 0, 1, 1, 0,\n",
    "       1, 0, 1, 0, 1, 1, 1, 0, 1, 0, 1, 1, 1, 0, 1, 1, 1, 0, 1, 1, 0, 0, 1,\n",
    "       1, 0, 1, 1, 1, 0, 0, 1, 1, 1, 0, 0, 0, 1, 0, 1, 0, 1, 1, 0, 1, 1, 0,\n",
    "       1, 0, 1, 1, 0, 0, 1, 0, 1, 1, 0, 1, 1, 1, 1, 1, 0, 1, 0, 0, 1, 1, 1,\n",
    "       1, 0, 1, 1, 1, 0, 0, 1, 1, 1, 1, 0, 1, 0, 1, 1, 1, 0, 0, 0, 1, 1])\n",
    "print(predictions_dt_np)"
   ]
  },
  {
   "cell_type": "code",
   "execution_count": 27,
   "metadata": {
    "collapsed": true
   },
   "outputs": [],
   "source": [
    "fpr1, tpr1, _ = roc_curve(predictions_dt_np, test_class_np)"
   ]
  },
  {
   "cell_type": "code",
   "execution_count": 29,
   "metadata": {
    "collapsed": false
   },
   "outputs": [
    {
     "data": {
      "image/png": "[encoded data removed]",
      "text/plain": [
       "<matplotlib.figure.Figure at 0x7fdc033e1a58>"
      ]
     },
     "metadata": {},
     "output_type": "display_data"
    },
    {
     "data": {
      "text/plain": [
       "<ggplot: (8786432745827)>"
      ]
     },
     "execution_count": 29,
     "metadata": {},
     "output_type": "execute_result"
    }
   ],
   "source": [
    "df1 = pd.DataFrame(dict(fpr1=fpr1, tpr1=tpr1))\n",
    "\n",
    "ggplot(df1, aes(x='fpr1', y='tpr1')) +\\\n",
    "    geom_line() +\\\n",
    "    geom_area(alpha=0.2) +\\\n",
    "    geom_abline(linetype='dashed') +\\\n",
    "    theme_bw() +\\\n",
    "    ggtitle('ROC Curve for Decision Trees')"
   ]
  },
  {
   "cell_type": "markdown",
   "metadata": {},
   "source": [
    "## Random Forest"
   ]
  },
  {
   "cell_type": "code",
   "execution_count": 30,
   "metadata": {
    "collapsed": false
   },
   "outputs": [
    {
     "data": {
      "text/plain": [
       "RandomForestClassifier(bootstrap=True, class_weight=None, criterion='gini',\n",
       "            max_depth=None, max_features='auto', max_leaf_nodes=None,\n",
       "            min_impurity_split=1e-07, min_samples_leaf=1,\n",
       "            min_samples_split=2, min_weight_fraction_leaf=0.0,\n",
       "            n_estimators=128, n_jobs=1, oob_score=False, random_state=None,\n",
       "            verbose=0, warm_start=False)"
      ]
     },
     "execution_count": 30,
     "metadata": {},
     "output_type": "execute_result"
    }
   ],
   "source": [
    "fit_RF = RandomForestClassifier(n_estimators = 128)\n",
    "fit_RF"
   ]
  },
  {
   "cell_type": "code",
   "execution_count": 31,
   "metadata": {
    "collapsed": false
   },
   "outputs": [
    {
     "data": {
      "text/plain": [
       "RandomForestClassifier(bootstrap=True, class_weight=None, criterion='gini',\n",
       "            max_depth=None, max_features='auto', max_leaf_nodes=None,\n",
       "            min_impurity_split=1e-07, min_samples_leaf=1,\n",
       "            min_samples_split=2, min_weight_fraction_leaf=0.0,\n",
       "            n_estimators=128, n_jobs=1, oob_score=False, random_state=None,\n",
       "            verbose=0, warm_start=False)"
      ]
     },
     "execution_count": 31,
     "metadata": {},
     "output_type": "execute_result"
    }
   ],
   "source": [
    "fit_RF.fit(train_set, class_set['class'])"
   ]
  },
  {
   "cell_type": "code",
   "execution_count": 32,
   "metadata": {
    "collapsed": true
   },
   "outputs": [],
   "source": [
    "predictions_RF = fit_RF.predict(test_set)"
   ]
  },
  {
   "cell_type": "code",
   "execution_count": 33,
   "metadata": {
    "collapsed": false
   },
   "outputs": [
    {
     "name": "stdout",
     "output_type": "stream",
     "text": [
      "class   2   4\n",
      "row_0        \n",
      "2      78   4\n",
      "4       1  54\n"
     ]
    }
   ],
   "source": [
    "print(pd.crosstab(predictions_RF, test_class_set['class']))"
   ]
  },
  {
   "cell_type": "code",
   "execution_count": 34,
   "metadata": {
    "collapsed": false
   },
   "outputs": [
    {
     "name": "stdout",
     "output_type": "stream",
     "text": [
      "0.96350\n"
     ]
    }
   ],
   "source": [
    "accuracy_RF = fit_RF.score(test_set, test_class_set['class'])\n",
    "print('%.5f' % accuracy_RF)"
   ]
  },
  {
   "cell_type": "code",
   "execution_count": 35,
   "metadata": {
    "collapsed": false
   },
   "outputs": [
    {
     "name": "stdout",
     "output_type": "stream",
     "text": [
      "The test error rate for our model is:\n",
      "0.03650\n"
     ]
    }
   ],
   "source": [
    "# Here we calculate the test error rate!\n",
    "print(\"The test error rate for our model is:\")\n",
    "test_error_rate_RF = 1 - accuracy_RF\n",
    "print('%.5f' % test_error_rate_RF)"
   ]
  },
  {
   "cell_type": "markdown",
   "metadata": {},
   "source": [
    "## ROC Curve for Random Forest \n",
    "Same issues as before"
   ]
  },
  {
   "cell_type": "code",
   "execution_count": 36,
   "metadata": {
    "collapsed": false
   },
   "outputs": [
    {
     "data": {
      "text/plain": [
       "array([0, 0, 1, 1, 1, 1, 1, 1, 0, 1, 1, 1, 1, 1, 1, 0, 1, 0, 1, 0, 0, 1, 0,\n",
       "       1, 1, 1, 0, 0, 1, 0, 1, 0, 0, 1, 1, 1, 0, 1, 0, 0, 1, 0, 0, 1, 1, 0,\n",
       "       1, 0, 1, 0, 1, 1, 1, 0, 1, 0, 0, 1, 1, 0, 1, 1, 1, 0, 1, 1, 0, 1, 1,\n",
       "       1, 0, 1, 1, 1, 0, 0, 1, 1, 0, 0, 0, 0, 1, 0, 1, 0, 1, 1, 0, 1, 1, 0,\n",
       "       1, 1, 1, 1, 0, 0, 1, 1, 1, 1, 0, 1, 0, 1, 1, 1, 0, 1, 0, 0, 0, 1, 1,\n",
       "       1, 0, 1, 1, 1, 0, 0, 1, 1, 1, 1, 0, 1, 0, 1, 1, 1, 0, 0, 0, 1, 1])"
      ]
     },
     "execution_count": 36,
     "metadata": {},
     "output_type": "execute_result"
    }
   ],
   "source": [
    "predictions_RF_np = np.array([0, 0, 1, 1, 1, 1, 1, 1, 0, 1, 1, 1, 1, 1, 1, 0, 1, 0, 1, 0, 0, 1, 0,\n",
    "       1, 1, 1, 0, 0, 1, 0, 1, 0, 0, 1, 1, 1, 0, 1, 0, 0, 1, 0, 0, 1, 1, 0,\n",
    "       1, 0, 1, 0, 1, 1, 1, 0, 1, 0, 0, 1, 1, 0, 1, 1, 1, 0, 1, 1, 0, 1, 1,\n",
    "       1, 0, 1, 1, 1, 0, 0, 1, 1, 0, 0, 0, 0, 1, 0, 1, 0, 1, 1, 0, 1, 1, 0,\n",
    "       1, 1, 1, 1, 0, 0, 1, 1, 1, 1, 0, 1, 0, 1, 1, 1, 0, 1, 0, 0, 0, 1, 1,\n",
    "       1, 0, 1, 1, 1, 0, 0, 1, 1, 1, 1, 0, 1, 0, 1, 1, 1, 0, 0, 0, 1, 1])\n",
    "predictions_RF_np"
   ]
  },
  {
   "cell_type": "code",
   "execution_count": 37,
   "metadata": {
    "collapsed": false
   },
   "outputs": [],
   "source": [
    "fpr2, tpr2, _ = roc_curve(predictions_RF_np, test_class_np)"
   ]
  },
  {
   "cell_type": "code",
   "execution_count": 38,
   "metadata": {
    "collapsed": false
   },
   "outputs": [
    {
     "data": {
      "image/png": "[encoded data removed]",
      "text/plain": [
       "<matplotlib.figure.Figure at 0x7fdc00fc4128>"
      ]
     },
     "metadata": {},
     "output_type": "display_data"
    },
    {
     "data": {
      "text/plain": [
       "<ggplot: (-9223363250422014148)>"
      ]
     },
     "execution_count": 38,
     "metadata": {},
     "output_type": "execute_result"
    }
   ],
   "source": [
    "df2 = pd.DataFrame(dict(fpr2=fpr2, tpr2=tpr2))\n",
    "\n",
    "ggplot(df2, aes(x='fpr2', y='tpr2')) +\\\n",
    "    geom_line() +\\\n",
    "    geom_area(alpha=0.2) +\\\n",
    "    geom_abline(linetype='dashed') +\\\n",
    "    theme_bw() +\\\n",
    "    ggtitle('ROC Curve for Random Forests')"
   ]
  },
  {
   "cell_type": "markdown",
   "metadata": {},
   "source": [
    "## Neural Networks"
   ]
  },
  {
   "cell_type": "code",
   "execution_count": 39,
   "metadata": {
    "collapsed": true
   },
   "outputs": [],
   "source": [
    "fit_NN = MLPClassifier(solver='lbfgs', hidden_layer_sizes=(5, ), random_state=7)"
   ]
  },
  {
   "cell_type": "code",
   "execution_count": 40,
   "metadata": {
    "collapsed": false
   },
   "outputs": [
    {
     "data": {
      "text/plain": [
       "MLPClassifier(activation='relu', alpha=0.0001, batch_size='auto', beta_1=0.9,\n",
       "       beta_2=0.999, early_stopping=False, epsilon=1e-08,\n",
       "       hidden_layer_sizes=(5,), learning_rate='constant',\n",
       "       learning_rate_init=0.001, max_iter=200, momentum=0.9,\n",
       "       nesterovs_momentum=True, power_t=0.5, random_state=7, shuffle=True,\n",
       "       solver='lbfgs', tol=0.0001, validation_fraction=0.1, verbose=False,\n",
       "       warm_start=False)"
      ]
     },
     "execution_count": 40,
     "metadata": {},
     "output_type": "execute_result"
    }
   ],
   "source": [
    "fit_NN.fit(train_set, class_set['class'])"
   ]
  },
  {
   "cell_type": "code",
   "execution_count": 41,
   "metadata": {
    "collapsed": false
   },
   "outputs": [
    {
     "data": {
      "text/plain": [
       "array([4, 4, 2, 2, 2, 2, 2, 2, 4, 2, 2, 2, 2, 2, 4, 4, 2, 4, 2, 4, 4, 2, 4,\n",
       "       2, 2, 2, 4, 4, 2, 4, 2, 4, 4, 2, 2, 2, 4, 2, 4, 4, 2, 4, 4, 2, 2, 4,\n",
       "       2, 4, 2, 4, 2, 2, 2, 4, 2, 4, 2, 2, 2, 4, 2, 2, 2, 4, 2, 2, 2, 2, 2,\n",
       "       2, 4, 2, 2, 2, 4, 4, 2, 2, 4, 4, 4, 4, 2, 4, 2, 4, 2, 2, 4, 2, 2, 4,\n",
       "       2, 4, 2, 2, 4, 4, 2, 2, 2, 2, 4, 2, 4, 4, 2, 2, 4, 2, 4, 4, 4, 2, 2,\n",
       "       2, 4, 2, 2, 2, 4, 4, 2, 2, 2, 2, 4, 2, 4, 2, 2, 2, 4, 4, 4, 2, 2])"
      ]
     },
     "execution_count": 41,
     "metadata": {},
     "output_type": "execute_result"
    }
   ],
   "source": [
    "predictions_NN = fit_NN.predict(test_set)\n",
    "predictions_NN"
   ]
  },
  {
   "cell_type": "code",
   "execution_count": 42,
   "metadata": {
    "collapsed": false
   },
   "outputs": [
    {
     "name": "stdout",
     "output_type": "stream",
     "text": [
      "class   2   4\n",
      "row_0        \n",
      "2      78   4\n",
      "4       1  54\n"
     ]
    }
   ],
   "source": [
    "print(pd.crosstab(predictions_NN, test_class_set['class']))"
   ]
  },
  {
   "cell_type": "code",
   "execution_count": 43,
   "metadata": {
    "collapsed": false
   },
   "outputs": [
    {
     "name": "stdout",
     "output_type": "stream",
     "text": [
      "0.96\n"
     ]
    }
   ],
   "source": [
    "accuracy_NN = fit_NN.score(test_set, test_class_set['class'])\n",
    "print('%.2f' % accuracy_NN)"
   ]
  },
  {
   "cell_type": "code",
   "execution_count": 44,
   "metadata": {
    "collapsed": false
   },
   "outputs": [
    {
     "name": "stdout",
     "output_type": "stream",
     "text": [
      "The test error rate for our model is:\n",
      "0.036496350\n"
     ]
    }
   ],
   "source": [
    "# Here we calculate the test error rate!\n",
    "print(\"The test error rate for our model is:\")\n",
    "test_error_rate_NN = 1 - accuracy_NN\n",
    "print('%.9f' % test_error_rate_NN)"
   ]
  },
  {
   "cell_type": "markdown",
   "metadata": {},
   "source": [
    "## ROC Curve for Neural Network"
   ]
  },
  {
   "cell_type": "code",
   "execution_count": 45,
   "metadata": {
    "collapsed": false
   },
   "outputs": [],
   "source": [
    "predictions_NN_np = np.array([0, 0, 1, 1, 1, 1, 1, 1, 0, 1, 1, 1, 1, 1, 0, 0, 1, 0, 1, 0, 0, 1, 0,\n",
    "       1, 1, 1, 0, 0, 1, 0, 1, 0, 0, 1, 1, 1, 0, 1, 0, 0, 1, 0, 0, 1, 1, 0,\n",
    "       1, 0, 1, 0, 1, 1, 1, 0, 1, 0, 1, 1, 1, 0, 1, 1, 1, 0, 1, 1, 1, 1, 1,\n",
    "       1, 0, 1, 1, 1, 0, 0, 1, 1, 0, 0, 0, 0, 1, 0, 1, 0, 1, 1, 0, 1, 1, 0,\n",
    "       1, 0, 1, 1, 0, 0, 1, 1, 1, 1, 0, 1, 0, 0, 1, 1, 0, 1, 0, 0, 0, 1, 1,\n",
    "       1, 0, 1, 1, 1, 0, 0, 1, 1, 1, 1, 0, 1, 0, 1, 1, 1, 0, 0, 0, 1, 1])"
   ]
  },
  {
   "cell_type": "code",
   "execution_count": 46,
   "metadata": {
    "collapsed": false
   },
   "outputs": [],
   "source": [
    "fpr3, tpr3, _ = roc_curve(predictions_NN_np, test_class_np)"
   ]
  },
  {
   "cell_type": "code",
   "execution_count": 48,
   "metadata": {
    "collapsed": false
   },
   "outputs": [
    {
     "data": {
      "image/png": "[encoded data removed]",
      "text/plain": [
       "<matplotlib.figure.Figure at 0x7fdc00edbef0>"
      ]
     },
     "metadata": {},
     "output_type": "display_data"
    },
    {
     "data": {
      "text/plain": [
       "<ggplot: (-9223363250424454158)>"
      ]
     },
     "execution_count": 48,
     "metadata": {},
     "output_type": "execute_result"
    }
   ],
   "source": [
    "df3 = pd.DataFrame(dict(fpr3=fpr3, tpr3=tpr3))\n",
    "\n",
    "ggplot(df3, aes(x='fpr3', y='tpr3')) +\\\n",
    "    geom_line() +\\\n",
    "    geom_area(alpha=0.2) +\\\n",
    "    geom_abline(linetype='dashed') +\\\n",
    "    theme_bw() +\\\n",
    "    ggtitle('ROC Curve for Neural Networks')"
   ]
  }
 ],
 "metadata": {
  "anaconda-cloud": {},
  "kernelspec": {
   "display_name": "Python [conda env:puto]",
   "language": "python",
   "name": "conda-env-puto-py"
  },
  "language_info": {
   "codemirror_mode": {
    "name": "ipython",
    "version": 3
   },
   "file_extension": ".py",
   "mimetype": "text/x-python",
   "name": "python",
   "nbconvert_exporter": "python",
   "pygments_lexer": "ipython3",
   "version": "3.5.2"
  }
 },
 "nbformat": 4,
 "nbformat_minor": 1
}
